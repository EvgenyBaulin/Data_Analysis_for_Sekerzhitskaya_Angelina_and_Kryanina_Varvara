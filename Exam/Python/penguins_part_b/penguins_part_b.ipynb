{
 "cells": [
  {
   "cell_type": "code",
   "execution_count": 3,
   "id": "initial_id",
   "metadata": {
    "collapsed": true,
    "ExecuteTime": {
     "end_time": "2023-12-22T08:26:24.181188Z",
     "start_time": "2023-12-22T08:26:24.052524Z"
    }
   },
   "outputs": [
    {
     "name": "stdout",
     "output_type": "stream",
     "text": [
      "Самый сильный выброс: 20\n",
      "Наименьшее стандартное отклонение для толщины клюва: 1.13\n",
      "Медиана толщины клюва для пингвинов с острова Torgersen: 18.40\n"
     ]
    }
   ],
   "source": [
    "import pandas as pd\n",
    "\n",
    "df = pd.read_excel('penguins_part_b.xlsx')\n",
    "torgersen_penguins = df[df['island'] == 'Torgersen']\n",
    "\n",
    "max_outlier_id = torgersen_penguins.loc[(\n",
    "\t\ttorgersen_penguins['bill_depth_mm'] - torgersen_penguins['bill_depth_mm'].mean()).abs().idxmax(), 'id']\n",
    "print(f\"Самый сильный выброс: {max_outlier_id}\")\n",
    "\n",
    "min_std_dev = df.groupby('island')['bill_depth_mm'].std().min()\n",
    "print(f\"Наименьшее стандартное отклонение для толщины клюва: {min_std_dev:.2f}\")\n",
    "\n",
    "median_bill_depth_torgersen = torgersen_penguins['bill_depth_mm'].median()\n",
    "print(f\"Медиана толщины клюва для пингвинов с острова Torgersen: {median_bill_depth_torgersen:.2f}\")\n"
   ]
  }
 ],
 "metadata": {
  "kernelspec": {
   "display_name": "Python 3",
   "language": "python",
   "name": "python3"
  },
  "language_info": {
   "codemirror_mode": {
    "name": "ipython",
    "version": 2
   },
   "file_extension": ".py",
   "mimetype": "text/x-python",
   "name": "python",
   "nbconvert_exporter": "python",
   "pygments_lexer": "ipython2",
   "version": "2.7.6"
  }
 },
 "nbformat": 4,
 "nbformat_minor": 5
}
