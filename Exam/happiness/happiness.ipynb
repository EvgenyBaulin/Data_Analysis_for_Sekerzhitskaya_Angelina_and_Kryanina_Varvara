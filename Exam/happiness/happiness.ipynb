{
 "cells": [
  {
   "cell_type": "code",
   "execution_count": 11,
   "id": "initial_id",
   "metadata": {
    "collapsed": true,
    "ExecuteTime": {
     "end_time": "2023-12-22T08:14:14.012469Z",
     "start_time": "2023-12-22T08:14:13.747451Z"
    }
   },
   "outputs": [],
   "source": [
    "import pandas as pd\n",
    "import matplotlib.pyplot as plt"
   ]
  },
  {
   "cell_type": "code",
   "execution_count": 12,
   "outputs": [
    {
     "data": {
      "text/plain": "         Country                           Region  Happiness  Economy  Family  \\\n0    Switzerland                   Western Europe      7.587     1.40    1.35   \n1        Iceland                   Western Europe      7.561     1.30    1.40   \n2        Denmark                   Western Europe      7.527     1.33    1.36   \n3         Norway                   Western Europe      7.522     1.46    1.33   \n4         Canada                    North America      7.427     1.33    1.32   \n..           ...                              ...        ...      ...     ...   \n153       Rwanda               Sub-Saharan Africa      3.465     0.22    0.77   \n154        Benin               Sub-Saharan Africa      3.340     0.29    0.35   \n155        Syria  Middle East and Northern Africa      3.006     0.66    0.47   \n156      Burundi               Sub-Saharan Africa      2.905     0.02    0.42   \n157         Togo               Sub-Saharan Africa      2.839     0.21    0.14   \n\n     Health  Freedom  Trust  Generosity  \n0      0.94     0.67   0.42        0.30  \n1      0.95     0.63   0.14        0.44  \n2      0.87     0.65   0.48        0.34  \n3      0.89     0.67   0.37        0.35  \n4      0.91     0.63   0.33        0.46  \n..      ...      ...    ...         ...  \n153    0.43     0.59   0.55        0.23  \n154    0.32     0.48   0.08        0.18  \n155    0.72     0.16   0.19        0.47  \n156    0.22     0.12   0.10        0.20  \n157    0.28     0.36   0.11        0.17  \n\n[158 rows x 9 columns]",
      "text/html": "<div>\n<style scoped>\n    .dataframe tbody tr th:only-of-type {\n        vertical-align: middle;\n    }\n\n    .dataframe tbody tr th {\n        vertical-align: top;\n    }\n\n    .dataframe thead th {\n        text-align: right;\n    }\n</style>\n<table border=\"1\" class=\"dataframe\">\n  <thead>\n    <tr style=\"text-align: right;\">\n      <th></th>\n      <th>Country</th>\n      <th>Region</th>\n      <th>Happiness</th>\n      <th>Economy</th>\n      <th>Family</th>\n      <th>Health</th>\n      <th>Freedom</th>\n      <th>Trust</th>\n      <th>Generosity</th>\n    </tr>\n  </thead>\n  <tbody>\n    <tr>\n      <th>0</th>\n      <td>Switzerland</td>\n      <td>Western Europe</td>\n      <td>7.587</td>\n      <td>1.40</td>\n      <td>1.35</td>\n      <td>0.94</td>\n      <td>0.67</td>\n      <td>0.42</td>\n      <td>0.30</td>\n    </tr>\n    <tr>\n      <th>1</th>\n      <td>Iceland</td>\n      <td>Western Europe</td>\n      <td>7.561</td>\n      <td>1.30</td>\n      <td>1.40</td>\n      <td>0.95</td>\n      <td>0.63</td>\n      <td>0.14</td>\n      <td>0.44</td>\n    </tr>\n    <tr>\n      <th>2</th>\n      <td>Denmark</td>\n      <td>Western Europe</td>\n      <td>7.527</td>\n      <td>1.33</td>\n      <td>1.36</td>\n      <td>0.87</td>\n      <td>0.65</td>\n      <td>0.48</td>\n      <td>0.34</td>\n    </tr>\n    <tr>\n      <th>3</th>\n      <td>Norway</td>\n      <td>Western Europe</td>\n      <td>7.522</td>\n      <td>1.46</td>\n      <td>1.33</td>\n      <td>0.89</td>\n      <td>0.67</td>\n      <td>0.37</td>\n      <td>0.35</td>\n    </tr>\n    <tr>\n      <th>4</th>\n      <td>Canada</td>\n      <td>North America</td>\n      <td>7.427</td>\n      <td>1.33</td>\n      <td>1.32</td>\n      <td>0.91</td>\n      <td>0.63</td>\n      <td>0.33</td>\n      <td>0.46</td>\n    </tr>\n    <tr>\n      <th>...</th>\n      <td>...</td>\n      <td>...</td>\n      <td>...</td>\n      <td>...</td>\n      <td>...</td>\n      <td>...</td>\n      <td>...</td>\n      <td>...</td>\n      <td>...</td>\n    </tr>\n    <tr>\n      <th>153</th>\n      <td>Rwanda</td>\n      <td>Sub-Saharan Africa</td>\n      <td>3.465</td>\n      <td>0.22</td>\n      <td>0.77</td>\n      <td>0.43</td>\n      <td>0.59</td>\n      <td>0.55</td>\n      <td>0.23</td>\n    </tr>\n    <tr>\n      <th>154</th>\n      <td>Benin</td>\n      <td>Sub-Saharan Africa</td>\n      <td>3.340</td>\n      <td>0.29</td>\n      <td>0.35</td>\n      <td>0.32</td>\n      <td>0.48</td>\n      <td>0.08</td>\n      <td>0.18</td>\n    </tr>\n    <tr>\n      <th>155</th>\n      <td>Syria</td>\n      <td>Middle East and Northern Africa</td>\n      <td>3.006</td>\n      <td>0.66</td>\n      <td>0.47</td>\n      <td>0.72</td>\n      <td>0.16</td>\n      <td>0.19</td>\n      <td>0.47</td>\n    </tr>\n    <tr>\n      <th>156</th>\n      <td>Burundi</td>\n      <td>Sub-Saharan Africa</td>\n      <td>2.905</td>\n      <td>0.02</td>\n      <td>0.42</td>\n      <td>0.22</td>\n      <td>0.12</td>\n      <td>0.10</td>\n      <td>0.20</td>\n    </tr>\n    <tr>\n      <th>157</th>\n      <td>Togo</td>\n      <td>Sub-Saharan Africa</td>\n      <td>2.839</td>\n      <td>0.21</td>\n      <td>0.14</td>\n      <td>0.28</td>\n      <td>0.36</td>\n      <td>0.11</td>\n      <td>0.17</td>\n    </tr>\n  </tbody>\n</table>\n<p>158 rows × 9 columns</p>\n</div>"
     },
     "execution_count": 12,
     "metadata": {},
     "output_type": "execute_result"
    }
   ],
   "source": [
    "df = pd.read_excel(\"happiness.xlsx\")\n",
    "df"
   ],
   "metadata": {
    "collapsed": false,
    "ExecuteTime": {
     "end_time": "2023-12-22T08:14:14.048420Z",
     "start_time": "2023-12-22T08:14:14.013324Z"
    }
   },
   "id": "ae0f6e01b7db3038"
  },
  {
   "cell_type": "code",
   "execution_count": 13,
   "outputs": [
    {
     "name": "stdout",
     "output_type": "stream",
     "text": [
      "Среднее значение Freedom: 0.43\n",
      "Стандартное отклонение Freedom: 0.15\n"
     ]
    }
   ],
   "source": [
    "mean_freedom = df['Freedom'].mean()\n",
    "std_dev_freedom = df['Freedom'].std()\n",
    "\n",
    "mean_freedom = round(mean_freedom, 2)\n",
    "std_dev_freedom = round(std_dev_freedom, 2)\n",
    "\n",
    "print(\"Среднее значение Freedom:\", mean_freedom)\n",
    "print(\"Стандартное отклонение Freedom:\", std_dev_freedom)"
   ],
   "metadata": {
    "collapsed": false,
    "ExecuteTime": {
     "end_time": "2023-12-22T08:14:14.048563Z",
     "start_time": "2023-12-22T08:14:14.034443Z"
    }
   },
   "id": "675e9daff62084ba"
  },
  {
   "cell_type": "code",
   "execution_count": 14,
   "outputs": [
    {
     "name": "stdout",
     "output_type": "stream",
     "text": [
      "Среднее значение Freedom для стран региона Latin America and Caribbean: 0.5\n"
     ]
    }
   ],
   "source": [
    "latin_america_df = df[df['Region'] == 'Latin America and Caribbean']\n",
    "\n",
    "mean_freedom_latin_america = latin_america_df['Freedom'].mean()\n",
    "\n",
    "mean_freedom_latin_america = round(mean_freedom_latin_america, 2)\n",
    "\n",
    "print(\"Среднее значение Freedom для стран региона Latin America and Caribbean:\", mean_freedom_latin_america)"
   ],
   "metadata": {
    "collapsed": false,
    "ExecuteTime": {
     "end_time": "2023-12-22T08:14:14.048672Z",
     "start_time": "2023-12-22T08:14:14.040988Z"
    }
   },
   "id": "e134c7fccf427a04"
  },
  {
   "cell_type": "code",
   "execution_count": 15,
   "outputs": [
    {
     "name": "stdout",
     "output_type": "stream",
     "text": [
      "Медиана значений в столбце Freedom or Family: 1.03\n"
     ]
    }
   ],
   "source": [
    "df['Freedom or Family'] = df.apply(lambda row: row['Freedom'] if row['Freedom'] > row['Family'] else row['Family'],\n",
    "\t\t\t\t\t\t\t\t   axis = 1)\n",
    "\n",
    "median_freedom_or_family = df['Freedom or Family'].median()\n",
    "\n",
    "median_freedom_or_family = round(median_freedom_or_family, 2)\n",
    "\n",
    "print(\"Медиана значений в столбце Freedom or Family:\", median_freedom_or_family)\n"
   ],
   "metadata": {
    "collapsed": false,
    "ExecuteTime": {
     "end_time": "2023-12-22T08:14:14.058417Z",
     "start_time": "2023-12-22T08:14:14.046667Z"
    }
   },
   "id": "91640bc14dffd63e"
  },
  {
   "cell_type": "code",
   "execution_count": 18,
   "outputs": [
    {
     "data": {
      "text/plain": "<Figure size 640x480 with 1 Axes>",
      "image/png": "[encoded data removed]"
     },
     "metadata": {},
     "output_type": "display_data"
    }
   ],
   "source": [
    "mena_df = df[df['Region'] == 'Middle East and Northern Africa']\n",
    "\n",
    "plt.scatter(mena_df['Family'], mena_df['Health'])\n",
    "plt.title('Диаграмма рассеяния между Family и Health для MENA')\n",
    "plt.xlabel('Family')\n",
    "plt.ylabel('Health')\n",
    "plt.xlim(0.4)\n",
    "plt.ylim(0)\n",
    "\n",
    "plt.show()"
   ],
   "metadata": {
    "collapsed": false,
    "ExecuteTime": {
     "end_time": "2023-12-22T08:15:31.480744Z",
     "start_time": "2023-12-22T08:15:31.388315Z"
    }
   },
   "id": "921b8238ad06818c"
  },
  {
   "cell_type": "code",
   "execution_count": 19,
   "outputs": [
    {
     "name": "stdout",
     "output_type": "stream",
     "text": [
      "Переменная с наименьшим стандартным отклонением: Trust\n",
      "Соответствующее значение стандартного отклонения: 0.12\n"
     ]
    }
   ],
   "source": [
    "numeric_features = ['Happiness', 'Economy', 'Family', 'Health', 'Freedom', 'Trust', 'Generosity']\n",
    "\n",
    "std_deviations = df[numeric_features].std()\n",
    "\n",
    "min_std_deviation_variable = std_deviations.idxmin()\n",
    "\n",
    "min_std_deviation_value = round(std_deviations[min_std_deviation_variable], 2)\n",
    "\n",
    "print(\"Переменная с наименьшим стандартным отклонением:\", min_std_deviation_variable)\n",
    "print(\"Соответствующее значение стандартного отклонения:\", min_std_deviation_value)\n"
   ],
   "metadata": {
    "collapsed": false,
    "ExecuteTime": {
     "end_time": "2023-12-22T08:18:52.726258Z",
     "start_time": "2023-12-22T08:18:52.722963Z"
    }
   },
   "id": "75ceb7662fc2a653"
  },
  {
   "cell_type": "code",
   "execution_count": 20,
   "outputs": [
    {
     "name": "stdout",
     "output_type": "stream",
     "text": [
      "Регион с наименьшим средним значением признака Family: Family    Southern Asia\n",
      "dtype: object\n",
      "Соответствующее среднее значение (округленное до двух знаков): Family    0.64\n",
      "dtype: float64\n"
     ]
    }
   ],
   "source": [
    "pivot_table_family = pd.pivot_table(df, values = 'Family', index = 'Region', aggfunc = 'mean')\n",
    "\n",
    "min_avg_family_region = pivot_table_family.idxmin()\n",
    "min_avg_family_value = round(pivot_table_family.min(), 2)\n",
    "\n",
    "print(\"Регион с наименьшим средним значением признака Family:\", min_avg_family_region)\n",
    "print(\"Соответствующее среднее значение (округленное до двух знаков):\", min_avg_family_value)\n"
   ],
   "metadata": {
    "collapsed": false,
    "ExecuteTime": {
     "end_time": "2023-12-22T08:19:39.384019Z",
     "start_time": "2023-12-22T08:19:39.342873Z"
    }
   },
   "id": "dae238119c4cf95b"
  },
  {
   "cell_type": "code",
   "execution_count": 22,
   "outputs": [
    {
     "name": "stdout",
     "output_type": "stream",
     "text": [
      "Признак с наибольшей корреляцией с Freedom: Happiness\n",
      "Соответствующее значение корреляции (округленное до двух знаков): 0.57\n"
     ]
    }
   ],
   "source": [
    "correlation_features = ['Happiness', 'Economy', 'Family', 'Health', 'Trust', 'Generosity']\n",
    "\n",
    "correlations = df[correlation_features].corrwith(df['Freedom'])\n",
    "\n",
    "max_corr_feature = correlations.idxmax()\n",
    "max_corr_value = round(correlations[max_corr_feature], 2)\n",
    "\n",
    "print(\"Признак с наибольшей корреляцией с Freedom:\", max_corr_feature)\n",
    "print(\"Соответствующее значение корреляции (округленное до двух знаков):\", max_corr_value)\n"
   ],
   "metadata": {
    "collapsed": false,
    "ExecuteTime": {
     "end_time": "2023-12-22T08:23:03.135851Z",
     "start_time": "2023-12-22T08:23:03.086409Z"
    }
   },
   "id": "6a2a56f35902f91e"
  }
 ],
 "metadata": {
  "kernelspec": {
   "display_name": "Python 3",
   "language": "python",
   "name": "python3"
  },
  "language_info": {
   "codemirror_mode": {
    "name": "ipython",
    "version": 2
   },
   "file_extension": ".py",
   "mimetype": "text/x-python",
   "name": "python",
   "nbconvert_exporter": "python",
   "pygments_lexer": "ipython2",
   "version": "2.7.6"
  }
 },
 "nbformat": 4,
 "nbformat_minor": 5
}
